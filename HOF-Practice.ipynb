{
 "cells": [
  {
   "cell_type": "code",
   "execution_count": 1,
   "metadata": {},
   "outputs": [],
   "source": [
    "import csv\n",
    "from functools import reduce"
   ]
  },
  {
   "cell_type": "markdown",
   "metadata": {},
   "source": [
    "## Task 1: Count the number of trees in a borough and sort"
   ]
  },
  {
   "cell_type": "code",
   "execution_count": 6,
   "metadata": {},
   "outputs": [],
   "source": [
    "def mapper1(row):\n",
    "    return (row['borough'])\n",
    "def reducer1(counts,borough):\n",
    "    counts[borough] = counts.get(borough,0) + 1\n",
    "    return counts\n",
    "def func(x):\n",
    "    return x[1]\n",
    "with open(\"Tree.csv\",\"r\") as fi:\n",
    "    reader = csv.DictReader(fi)\n",
    "    output = sorted(reduce(reducer1,map(mapper1,reader),{}).items(),key =func)"
   ]
  },
  {
   "cell_type": "code",
   "execution_count": 7,
   "metadata": {},
   "outputs": [
    {
     "data": {
      "text/plain": [
       "[('Manhattan', 65423),\n",
       " ('Bronx', 85203),\n",
       " ('Staten Island', 105318),\n",
       " ('Brooklyn', 177293),\n",
       " ('Queens', 250551)]"
      ]
     },
     "execution_count": 7,
     "metadata": {},
     "output_type": "execute_result"
    }
   ],
   "source": [
    "output"
   ]
  },
  {
   "cell_type": "markdown",
   "metadata": {},
   "source": [
    "### Task 2: For all boroughs get the most common tree species and their count"
   ]
  },
  {
   "cell_type": "code",
   "execution_count": 18,
   "metadata": {},
   "outputs": [
    {
     "name": "stdout",
     "output_type": "stream",
     "text": [
      "[('Bronx', ('honeylocust', 9691)), ('Brooklyn', ('London planetree', 34886)), ('Manhattan', ('honeylocust', 13176)), ('Queens', ('London planetree', 31111)), ('Staten Island', ('Callery pear', 21059))]\n"
     ]
    }
   ],
   "source": [
    "def mapper1(row):\n",
    "    return tuple((row[\"borough\"],row[\"spc_common\"]))\n",
    "def reducer1(counts,borough):\n",
    "    counts[borough] = counts.get(borough,0) + 1\n",
    "    return counts\n",
    "def reducer3(counts,value):\n",
    "    ((borough,species),count) = value\n",
    "    if count > counts.get(borough,(None, 0))[1]:\n",
    "        counts[borough] = (species, count)\n",
    "    return counts\n",
    "with open(\"Tree.csv\",\"r\") as fi:\n",
    "    reader = csv.DictReader(fi)\n",
    "    output = sorted(reduce(reducer3,reduce(reducer1,map(mapper1,reader),{}).items(),{}).items())\n",
    "    #output = list(reduce(reducer1,map(mapper1,reader),{}).items())\n",
    "print(output)"
   ]
  },
  {
   "cell_type": "markdown",
   "metadata": {},
   "source": [
    "### Task 3: Get the count of all alive trees for all neighbourhoods"
   ]
  },
  {
   "cell_type": "code",
   "execution_count": 20,
   "metadata": {},
   "outputs": [],
   "source": [
    "def mapper1(row):\n",
    "    return (row['nta_name'],row['status'])\n",
    "def reducer1(gc,value):\n",
    "    nta , status = value\n",
    "    gc[nta] = gc.get(nta,0) + 1\n",
    "    return gc\n",
    "with open(\"Tree.csv\",\"r\") as fi:\n",
    "    reader = csv.DictReader(fi)\n",
    "    output = reduce(reducer1,filter(lambda x : x[1] == \"Alive\",map(mapper1,reader)),{}).items()"
   ]
  },
  {
   "cell_type": "code",
   "execution_count": 21,
   "metadata": {},
   "outputs": [
    {
     "data": {
      "text/plain": [
       "dict_items([('Forest Hills', 7330), ('Whitestone', 7253), ('East Williamsburg', 2179), ('Park Slope-Gowanus', 6097), ('Lincoln Square', 2008), ('Clinton', 1884), ('Grasmere-Arrochar-Ft. Wadsworth', 2084), ('Gravesend', 1324), ('Steinway', 5186), ('Great Kills', 10267), ('Clinton Hill', 2899), ('Brownsville', 2936), ('Bensonhurst East', 3236), ('Flatbush', 5901), ('Corona', 1969), ('Fort Greene', 2070), ('Upper East Side-Carnegie Hill', 4540), ('Upper West Side', 5723), ('Oakwood-Oakwood Beach', 5472), ('Kew Gardens', 1935), ('Ocean Parkway South', 2466), ('Chinatown', 1408), ('Ridgewood', 6093), ('East Tremont', 2451), ('Old Town-Dongan Hills-South Beach', 4805), ('New Dorp-Midland Beach', 5327), ('Sheepshead Bay-Gerritsen Beach-Manhattan Beach', 4957), ('Stuyvesant Town-Cooper Village', 438), ('SoHo-TriBeCa-Civic Center-Little Italy', 2101), ('Todt Hill-Emerson Hill-Heartland Village-Lighthouse Hill', 4636), ('Madison', 3437), ('Queensboro Hill', 2842), (\"Annadale-Huguenot-Prince's Bay-Eltingville\", 12530), ('Belmont', 1568), ('Mount Hope', 1926), ('Arden Heights', 6734), ('Murray Hill-Kips Bay', 1661), ('West Village', 3715), ('Carroll Gardens-Columbia Street-Red Hook', 4163), ('Morningside Heights', 2642), ('Jackson Heights', 6558), ('Norwood', 1870), ('University Heights-Morris Heights', 1862), ('Brighton Beach', 1173), ('Bay Ridge', 6722), ('Midwood', 4664), ('Murray Hill', 6855), ('Rugby-Remsen Village', 3174), ('Flushing', 3052), ('Far Rockaway-Bayswater', 4711), ('Bushwick North', 3249), ('Hammels-Arverne-Edgemere', 2911), ('Fordham South', 1002), ('Springfield Gardens South-Brookville', 3600), ('Rego Park', 2334), ('Queens Village', 6394), ('Prospect Heights', 1490), ('Bensonhurst West', 4102), ('Erasmus', 1329), ('Woodlawn-Wakefield', 3923), ('East Elmhurst', 2054), ('Lenox Hill-Roosevelt Island', 2215), ('Astoria', 4187), ('Gramercy', 1125), ('Woodhaven', 4062), ('Breezy Point-Belle Harbor-Rockaway Park-Broad Channel', 3824), ('Kensington-Ocean Parkway', 2187), ('Fresh Meadows-Utopia', 2750), ('Auburndale', 5119), ('Greenpoint', 3280), ('New Springville-Bloomfield-Travis', 8142), ('Van Cortlandt Village', 2279), ('Flatlands', 5312), ('Homecrest', 4078), ('Midtown-Midtown South', 1120), ('Glendale', 4219), ('Battery Park City-Lower Manhattan', 1264), ('Central Harlem South', 2581), ('Hunters Point-Sunnyside-West Maspeth', 5031), ('Borough Park', 5717), ('St. Albans', 6815), ('Laurelton', 4401), ('Bayside-Bayside Hills', 9386), ('Oakland Gardens', 5770), ('Jamaica Estates-Holliswood', 4013), ('College Point', 3300), ('Claremont-Bathgate', 1599), ('Turtle Bay-East Midtown', 2185), ('Highbridge', 1797), ('Douglas Manor-Douglaston-Little Neck', 7005), ('Crown Heights North', 6182), ('North Side-South Side', 3282), ('Pelham Parkway', 2181), ('Old Astoria', 1272), ('Lindenwood-Howard Beach', 4358), ('East New York', 9188), ('Bushwick South', 4350), ('Ocean Hill', 2260), ('Prospect Lefferts Gardens-Wingate', 3040), ('Lower East Side', 1845), ('Hudson Yards-Chelsea-Flatiron-Union Square', 2797), ('Sunset Park East', 3040), ('Bedford', 3588), ('West Farms-Bronx River', 1532), ('Richmond Hill', 4794), ('Westerleigh', 4844), ('Schuylerville-Throgs Neck-Edgewater Park', 4851), ('Georgetown-Marine Park-Bergen Beach-Mill Basin', 7221), ('Yorkville', 2133), ('Eastchester-Edenwald-Baychester', 2427), ('Elmhurst-Maspeth', 1904), ('Stuyvesant Heights', 3773), ('Kingsbridge Heights', 1108), ('Van Nest-Morris Park-Westchester Square', 3008), ('Melrose South-Mott Haven North', 1997), ('East New York (Pennsylvania Ave)', 2892), ('Bath Beach', 1744), ('Seagate-Coney Island', 1317), ('Rossville-Woodrow', 8843), ('East Village', 1506), ('Cypress Hills-City Line', 3487), ('Canarsie', 5636), ('Sunset Park West', 3099), ('Washington Heights South', 2788), ('Charleston-Richmond Valley-Tottenville', 7913), ('Kew Gardens Hills', 4916), ('Pelham Bay-Country Club-City Island', 3085), ('Williamsburg', 1610), ('East Harlem South', 1877), ('Woodside', 2631), ('New Brighton-Silver Lake', 3444), ('Bellerose', 5938), ('Crotona Park East', 1454), ('Dyker Heights', 3087), ('Elmhurst', 3166), (\"Mariner's Harbor-Arlington-Port Ivory-Graniteville\", 3591), ('Glen Oaks-Floral Park-New Hyde Park', 6542), ('Crown Heights South', 2051), ('Hamilton Heights', 2296), ('South Ozone Park', 6921), ('Manhattanville', 865), ('Ft. Totten-Bay Terrace-Clearview', 2791), ('Longwood', 1476), ('Cambria Heights', 3145), ('Stapleton-Rosebank', 3630), ('East Flatbush-Farragut', 2880), ('West Brighton', 455), ('Mott Haven-Port Morris', 2377), ('Soundview-Castle Hill-Clason Point-Harding Park', 3706), ('DUMBO-Vinegar Hill-Downtown Brooklyn-Boerum Hill', 2831), ('West Concourse', 1968), ('Bedford Park-Fordham North', 1721), ('Rosedale', 5171), ('Spuyten Duyvil-Kingsbridge', 1926), ('Ozone Park', 3074), ('Marble Hill-Inwood', 1675), ('Hunts Point', 3293), ('West New Brighton-New Brighton-St. George', 3756), ('Briarwood-Jamaica Hills', 3134), ('Queensbridge-Ravenswood-Long Island City', 1309), ('Windsor Terrace', 2227), ('Williamsbridge-Olinville', 3195), ('Washington Heights North', 2519), ('East Flushing', 3081), ('Pomonok-Flushing Heights-Hillcrest', 4826), ('East Concourse-Concourse Village', 2285), ('North Riverdale-Fieldston-Riverdale', 1919), ('Brooklyn Heights-Cobble Hill', 1718), ('Port Richmond', 2987), ('Grymes Hill-Clifton-Fox Hills', 2438), ('East Harlem North', 2398), ('North Corona', 2143), ('Morrisania-Melrose', 2177), ('Soundview-Bruckner', 1868), ('Allerton-Pelham Gardens', 3600), ('Jamaica', 4019), ('Parkchester', 773), ('Central Harlem North-Polo Grounds', 3355), ('Co-op City', 2030), ('Middle Village', 5089), ('Hollis', 2435), ('Baisley Park', 4552), ('Maspeth', 3090), ('South Jamaica', 3878), ('Westchester-Unionport', 2709), ('Springfield Gardens North', 2809), ('Starrett City', 671), ('Bronxdale', 1405)])"
      ]
     },
     "execution_count": 21,
     "metadata": {},
     "output_type": "execute_result"
    }
   ],
   "source": [
    "output"
   ]
  },
  {
   "cell_type": "markdown",
   "metadata": {},
   "source": [
    "### Task 4 : Get the mean stump diameter for all alive and dead trees in each borough"
   ]
  },
  {
   "cell_type": "code",
   "execution_count": 19,
   "metadata": {},
   "outputs": [
    {
     "name": "stdout",
     "output_type": "stream",
     "text": [
      "[('Queens', 12.37785699308031), ('Brooklyn', 11.802334062727935), ('Manhattan', 9.194520547945206), ('Staten Island', 10.947396963123644), ('Bronx', 9.211783439490446)]\n"
     ]
    }
   ],
   "source": [
    "def mapper1(row):\n",
    "    return (row['borough'],(row['status'] != \"Stump\",row[\"tree_dbh\"]))\n",
    "def reducer1(counts,value):\n",
    "    (bor,(status,dia)) = value\n",
    "    if status : \n",
    "        counts[bor] = counts.get(bor,[])  + [int(dia)]\n",
    "    return counts\n",
    "def mapper2(row):\n",
    "    return (row[0],sum(row[1])/len(row[1]))\n",
    "with open(\"Tree_small.csv\",\"r\") as fi:\n",
    "    reader = csv.DictReader(fi)\n",
    "    output = list(map(mapper2,reduce(reducer1,map(mapper1,reader),{}).items()))\n",
    "print(output)"
   ]
  },
  {
   "cell_type": "code",
   "execution_count": null,
   "metadata": {},
   "outputs": [],
   "source": []
  }
 ],
 "metadata": {
  "kernelspec": {
   "display_name": "Python 3",
   "language": "python",
   "name": "python3"
  },
  "language_info": {
   "codemirror_mode": {
    "name": "ipython",
    "version": 3
   },
   "file_extension": ".py",
   "mimetype": "text/x-python",
   "name": "python",
   "nbconvert_exporter": "python",
   "pygments_lexer": "ipython3",
   "version": "3.6.4"
  }
 },
 "nbformat": 4,
 "nbformat_minor": 2
}
