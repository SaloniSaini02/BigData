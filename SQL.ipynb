{
 "cells": [
  {
   "cell_type": "code",
   "execution_count": 1,
   "metadata": {},
   "outputs": [],
   "source": [
    "from pyspark.sql import SparkSession"
   ]
  },
  {
   "cell_type": "code",
   "execution_count": 3,
   "metadata": {},
   "outputs": [],
   "source": [
    "spark = SparkSession.builder.appName(\"SQL queries\").getOrCreate()"
   ]
  },
  {
   "cell_type": "code",
   "execution_count": 7,
   "metadata": {},
   "outputs": [
    {
     "name": "stdout",
     "output_type": "stream",
     "text": [
      "+-------------------+---+----+----+---+\n",
      "|                _c0|_c1| _c2| _c3|_c4|\n",
      "+-------------------+---+----+----+---+\n",
      "|03/05/2019 08:06:14|100|0.57|0.51| 47|\n",
      "|03/05/2019 08:11:14|100|0.47|0.62| 43|\n",
      "|03/05/2019 08:16:14|100|0.56|0.57| 62|\n",
      "|03/05/2019 08:21:14|100|0.57|0.56| 50|\n",
      "|03/05/2019 08:26:14|100|0.35|0.46| 43|\n",
      "|03/05/2019 08:31:14|100|0.41|0.58| 48|\n",
      "|03/05/2019 08:36:14|100|0.57|0.35| 58|\n",
      "|03/05/2019 08:41:14|100|0.41| 0.4| 58|\n",
      "|03/05/2019 08:46:14|100|0.53|0.35| 62|\n",
      "|03/05/2019 08:51:14|100|0.51| 0.6| 45|\n",
      "+-------------------+---+----+----+---+\n",
      "only showing top 10 rows\n",
      "\n"
     ]
    }
   ],
   "source": [
    "df = spark.read.format(\"csv\").option(\"header\",\"false\").option(\"inferSchema\",\"true\").load(\"utilization.csv\")\n",
    "df.show(10)"
   ]
  },
  {
   "cell_type": "code",
   "execution_count": 9,
   "metadata": {},
   "outputs": [],
   "source": [
    "df = df.withColumnRenamed(\"_c0\",\"event_datetime\") \\\n",
    "       .withColumnRenamed(\"_c1\",\"server_id\") \\\n",
    "       .withColumnRenamed(\"_c2\", \"free_memory\") \\\n",
    "        .withColumnRenamed(\"_c3\",\"cpu_utilization\") \\\n",
    "        .withColumnRenamed(\"_c4\", \"session_count\")"
   ]
  },
  {
   "cell_type": "code",
   "execution_count": 10,
   "metadata": {},
   "outputs": [
    {
     "name": "stdout",
     "output_type": "stream",
     "text": [
      "+-------------------+---------+-----------+---------------+-------------+\n",
      "|     event_datetime|server_id|free_memory|cpu_utilization|session_count|\n",
      "+-------------------+---------+-----------+---------------+-------------+\n",
      "|03/05/2019 08:06:14|      100|       0.57|           0.51|           47|\n",
      "|03/05/2019 08:11:14|      100|       0.47|           0.62|           43|\n",
      "|03/05/2019 08:16:14|      100|       0.56|           0.57|           62|\n",
      "|03/05/2019 08:21:14|      100|       0.57|           0.56|           50|\n",
      "|03/05/2019 08:26:14|      100|       0.35|           0.46|           43|\n",
      "|03/05/2019 08:31:14|      100|       0.41|           0.58|           48|\n",
      "|03/05/2019 08:36:14|      100|       0.57|           0.35|           58|\n",
      "|03/05/2019 08:41:14|      100|       0.41|            0.4|           58|\n",
      "|03/05/2019 08:46:14|      100|       0.53|           0.35|           62|\n",
      "|03/05/2019 08:51:14|      100|       0.51|            0.6|           45|\n",
      "+-------------------+---------+-----------+---------------+-------------+\n",
      "only showing top 10 rows\n",
      "\n"
     ]
    }
   ],
   "source": [
    "df.show(10)"
   ]
  },
  {
   "cell_type": "code",
   "execution_count": 11,
   "metadata": {},
   "outputs": [],
   "source": [
    "#register the dataframe as a table\n",
    "\n",
    "df.createOrReplaceTempView(\"utilization\")"
   ]
  },
  {
   "cell_type": "code",
   "execution_count": 13,
   "metadata": {},
   "outputs": [
    {
     "name": "stdout",
     "output_type": "stream",
     "text": [
      "+-------------------+---------+-----------+---------------+-------------+\n",
      "|     event_datetime|server_id|free_memory|cpu_utilization|session_count|\n",
      "+-------------------+---------+-----------+---------------+-------------+\n",
      "|03/05/2019 08:06:14|      100|       0.57|           0.51|           47|\n",
      "|03/05/2019 08:11:14|      100|       0.47|           0.62|           43|\n",
      "|03/05/2019 08:16:14|      100|       0.56|           0.57|           62|\n",
      "|03/05/2019 08:21:14|      100|       0.57|           0.56|           50|\n",
      "|03/05/2019 08:26:14|      100|       0.35|           0.46|           43|\n",
      "|03/05/2019 08:31:14|      100|       0.41|           0.58|           48|\n",
      "|03/05/2019 08:36:14|      100|       0.57|           0.35|           58|\n",
      "|03/05/2019 08:41:14|      100|       0.41|            0.4|           58|\n",
      "|03/05/2019 08:46:14|      100|       0.53|           0.35|           62|\n",
      "|03/05/2019 08:51:14|      100|       0.51|            0.6|           45|\n",
      "+-------------------+---------+-----------+---------------+-------------+\n",
      "\n"
     ]
    }
   ],
   "source": [
    "df_sql = spark.sql(\"select * from utilization limit 10\")\n",
    "df_sql.show(10)"
   ]
  },
  {
   "cell_type": "code",
   "execution_count": 14,
   "metadata": {},
   "outputs": [
    {
     "name": "stdout",
     "output_type": "stream",
     "text": [
      "+-------------------+---------+-----------+---------------+-------------+\n",
      "|     event_datetime|server_id|free_memory|cpu_utilization|session_count|\n",
      "+-------------------+---------+-----------+---------------+-------------+\n",
      "|03/05/2019 08:06:48|      120|       0.66|           0.31|           54|\n",
      "|03/05/2019 08:11:48|      120|       0.58|           0.38|           64|\n",
      "|03/05/2019 08:16:48|      120|       0.55|           0.61|           54|\n",
      "|03/05/2019 08:21:48|      120|        0.7|           0.35|           80|\n",
      "|03/05/2019 08:26:48|      120|        0.6|           0.39|           71|\n",
      "|03/05/2019 08:31:48|      120|       0.53|           0.35|           49|\n",
      "|03/05/2019 08:36:48|      120|       0.73|           0.42|           73|\n",
      "|03/05/2019 08:41:48|      120|       0.41|            0.6|           72|\n",
      "|03/05/2019 08:46:48|      120|       0.62|           0.57|           57|\n",
      "|03/05/2019 08:51:48|      120|       0.67|           0.44|           78|\n",
      "|03/05/2019 08:56:48|      120|       0.67|           0.38|           73|\n",
      "|03/05/2019 09:01:48|      120|       0.39|           0.47|           58|\n",
      "|03/05/2019 09:06:48|      120|        0.5|           0.29|           78|\n",
      "|03/05/2019 09:11:48|      120|       0.38|           0.38|           56|\n",
      "|03/05/2019 09:16:48|      120|       0.53|           0.38|           47|\n",
      "|03/05/2019 09:21:48|      120|       0.74|           0.25|           69|\n",
      "|03/05/2019 09:26:48|      120|       0.53|           0.57|           73|\n",
      "|03/05/2019 09:31:48|      120|       0.54|           0.64|           65|\n",
      "|03/05/2019 09:36:48|      120|        0.7|           0.52|           55|\n",
      "|03/05/2019 09:41:48|      120|       0.54|           0.27|           74|\n",
      "+-------------------+---------+-----------+---------------+-------------+\n",
      "only showing top 20 rows\n",
      "\n"
     ]
    }
   ],
   "source": [
    "df_sql_filter = spark.sql('select * from utilization where server_id = 120')\n",
    "df_sql_filter.show()"
   ]
  },
  {
   "cell_type": "code",
   "execution_count": 15,
   "metadata": {},
   "outputs": [
    {
     "data": {
      "text/plain": [
       "10000"
      ]
     },
     "execution_count": 15,
     "metadata": {},
     "output_type": "execute_result"
    }
   ],
   "source": [
    "df_sql_filter.count()"
   ]
  },
  {
   "cell_type": "code",
   "execution_count": 20,
   "metadata": {},
   "outputs": [
    {
     "name": "stdout",
     "output_type": "stream",
     "text": [
      "+---------+-------------+\n",
      "|server_id|session_count|\n",
      "+---------+-------------+\n",
      "|      120|           80|\n",
      "|      120|           80|\n",
      "|      120|           80|\n",
      "|      120|           80|\n",
      "|      120|           80|\n",
      "|      120|           80|\n",
      "|      120|           80|\n",
      "|      120|           80|\n",
      "|      120|           80|\n",
      "|      120|           80|\n",
      "|      120|           80|\n",
      "|      120|           80|\n",
      "|      120|           80|\n",
      "|      120|           80|\n",
      "|      120|           80|\n",
      "|      120|           80|\n",
      "|      120|           80|\n",
      "|      120|           80|\n",
      "|      120|           80|\n",
      "|      120|           80|\n",
      "+---------+-------------+\n",
      "only showing top 20 rows\n",
      "\n"
     ]
    }
   ],
   "source": [
    "df_sql_filter = spark.sql(\"select server_id, session_count from utilization where session_count > 70 and server_id=120 order by session_count desc\")\n",
    "df_sql_filter.show()"
   ]
  },
  {
   "cell_type": "code",
   "execution_count": 21,
   "metadata": {},
   "outputs": [
    {
     "name": "stdout",
     "output_type": "stream",
     "text": [
      "+--------+\n",
      "|count(1)|\n",
      "+--------+\n",
      "|  239659|\n",
      "+--------+\n",
      "\n"
     ]
    }
   ],
   "source": [
    "df_agg = spark.sql('select count(*) from utilization where session_count > 70')\n",
    "df_agg.show()"
   ]
  },
  {
   "cell_type": "code",
   "execution_count": 24,
   "metadata": {},
   "outputs": [
    {
     "name": "stdout",
     "output_type": "stream",
     "text": [
      "+---------+--------+\n",
      "|server_id|count(1)|\n",
      "+---------+--------+\n",
      "|      148|    8027|\n",
      "|      137|    8248|\n",
      "|      133|    8583|\n",
      "|      108|    8375|\n",
      "|      101|    9808|\n",
      "|      115|    5284|\n",
      "|      126|    6365|\n",
      "|      103|    8744|\n",
      "|      128|    3719|\n",
      "|      122|    4885|\n",
      "|      111|    3093|\n",
      "|      140|    6163|\n",
      "|      132|    2048|\n",
      "|      146|    7072|\n",
      "|      142|    7084|\n",
      "|      139|    7383|\n",
      "|      120|    2733|\n",
      "|      117|    3605|\n",
      "|      112|    7425|\n",
      "|      127|    5961|\n",
      "+---------+--------+\n",
      "only showing top 20 rows\n",
      "\n"
     ]
    }
   ],
   "source": [
    "df_agg = spark.sql('select server_id, count(*) from utilization where session_count > 70 group by server_id')\n",
    "df_agg.show()"
   ]
  },
  {
   "cell_type": "code",
   "execution_count": 25,
   "metadata": {},
   "outputs": [
    {
     "name": "stdout",
     "output_type": "stream",
     "text": [
      "+---------+--------+\n",
      "|server_id|count(1)|\n",
      "+---------+--------+\n",
      "|      101|    9808|\n",
      "|      113|    9418|\n",
      "|      145|    9304|\n",
      "|      103|    8744|\n",
      "|      102|    8586|\n",
      "|      133|    8583|\n",
      "|      108|    8375|\n",
      "|      149|    8288|\n",
      "|      137|    8248|\n",
      "|      148|    8027|\n",
      "|      123|    7918|\n",
      "|      118|    7913|\n",
      "|      112|    7425|\n",
      "|      139|    7383|\n",
      "|      104|    7366|\n",
      "|      121|    7084|\n",
      "|      142|    7084|\n",
      "|      146|    7072|\n",
      "|      126|    6365|\n",
      "|      144|    6220|\n",
      "+---------+--------+\n",
      "only showing top 20 rows\n",
      "\n"
     ]
    }
   ],
   "source": [
    "df_agg = spark.sql('select server_id, count(*) from utilization where session_count > 70 group by server_id order by count(*) desc')\n",
    "df_agg.show()"
   ]
  },
  {
   "cell_type": "code",
   "execution_count": 27,
   "metadata": {},
   "outputs": [
    {
     "name": "stdout",
     "output_type": "stream",
     "text": [
      "+---------+------------------+------------------+------------------+\n",
      "|server_id|min(session_count)|avg(session_count)|max(session_count)|\n",
      "+---------+------------------+------------------+------------------+\n",
      "|      101|                71| 87.66557911908646|               105|\n",
      "|      113|                71| 86.96262476109577|               103|\n",
      "|      145|                71| 86.97732158211522|               103|\n",
      "|      103|                71| 85.76372369624886|               101|\n",
      "|      102|                71| 85.71150710458886|               101|\n",
      "|      133|                71| 85.46720260981009|               100|\n",
      "|      108|                71|  85.1219104477612|               100|\n",
      "|      149|                71|  84.9612693050193|                99|\n",
      "|      137|                71|  85.0061833171678|                99|\n",
      "|      148|                71| 84.70350068518749|                99|\n",
      "|      123|                71| 84.53220510229856|                98|\n",
      "|      118|                71| 84.65777833944142|                98|\n",
      "|      112|                71| 83.54505050505051|                97|\n",
      "|      139|                71| 83.32710280373831|                96|\n",
      "|      104|                71| 83.34604941623677|                96|\n",
      "|      142|                71|  82.9049971767363|                95|\n",
      "|      121|                71| 82.88848108413326|                95|\n",
      "|      146|                71| 82.95093325791855|                95|\n",
      "|      126|                71| 81.56150824823253|                93|\n",
      "|      144|                71| 81.38472668810289|                92|\n",
      "+---------+------------------+------------------+------------------+\n",
      "only showing top 20 rows\n",
      "\n"
     ]
    }
   ],
   "source": [
    "df_agg = spark.sql('select server_id,min(session_count), avg(session_count),max(session_count) from utilization where session_count > 70 group by server_id order by count(*) desc')\n",
    "df_agg.show()"
   ]
  },
  {
   "cell_type": "code",
   "execution_count": 29,
   "metadata": {},
   "outputs": [],
   "source": [
    "from pyspark.sql import Row"
   ]
  },
  {
   "cell_type": "code",
   "execution_count": 30,
   "metadata": {},
   "outputs": [],
   "source": [
    "df_dup = sc.parallelize([Row(server_name=\"101 Server\", cpu = 85 , session_count = 80), \\\n",
    "                        Row(server_name=\"101 Server\", cpu = 80 , session_count = 90), \\\n",
    "                        Row(server_name=\"102 Server\", cpu = 85 , session_count = 80), \\\n",
    "                        Row(server_name=\"102 Server\", cpu = 85 , session_count = 80)]).toDF()"
   ]
  },
  {
   "cell_type": "code",
   "execution_count": 31,
   "metadata": {},
   "outputs": [
    {
     "name": "stdout",
     "output_type": "stream",
     "text": [
      "+---+-----------+-------------+\n",
      "|cpu|server_name|session_count|\n",
      "+---+-----------+-------------+\n",
      "| 85| 101 Server|           80|\n",
      "| 80| 101 Server|           90|\n",
      "| 85| 102 Server|           80|\n",
      "| 85| 102 Server|           80|\n",
      "+---+-----------+-------------+\n",
      "\n"
     ]
    }
   ],
   "source": [
    "df_dup.show()"
   ]
  },
  {
   "cell_type": "code",
   "execution_count": 32,
   "metadata": {},
   "outputs": [
    {
     "name": "stdout",
     "output_type": "stream",
     "text": [
      "+---+-----------+-------------+\n",
      "|cpu|server_name|session_count|\n",
      "+---+-----------+-------------+\n",
      "| 85| 101 Server|           80|\n",
      "| 80| 101 Server|           90|\n",
      "| 85| 102 Server|           80|\n",
      "+---+-----------+-------------+\n",
      "\n"
     ]
    }
   ],
   "source": [
    "df_dup.drop_duplicates().show()"
   ]
  },
  {
   "cell_type": "code",
   "execution_count": 34,
   "metadata": {},
   "outputs": [
    {
     "name": "stdout",
     "output_type": "stream",
     "text": [
      "+---+-----------+-------------+\n",
      "|cpu|server_name|session_count|\n",
      "+---+-----------+-------------+\n",
      "| 85| 102 Server|           80|\n",
      "| 85| 101 Server|           80|\n",
      "+---+-----------+-------------+\n",
      "\n"
     ]
    }
   ],
   "source": [
    "df_dup.drop_duplicates(['server_name']).show()"
   ]
  },
  {
   "cell_type": "code",
   "execution_count": 35,
   "metadata": {},
   "outputs": [],
   "source": [
    "from pyspark.sql import SparkSession\n",
    "from  pyspark.sql.functions import lit\n",
    "from pyspark.sql.types import StringType"
   ]
  },
  {
   "cell_type": "code",
   "execution_count": 36,
   "metadata": {},
   "outputs": [],
   "source": [
    "df= sc.parallelize([Row(server_name=\"101 Server\", cpu = 85 , session_count = 80), \\\n",
    "                        Row(server_name=\"101 Server\", cpu = 80 , session_count = 90), \\\n",
    "                        Row(server_name=\"102 Server\", cpu = 85 , session_count = 40), \\\n",
    "                        Row(server_name=\"103 Server\", cpu = 70 , session_count = 80), \\\n",
    "                        Row(server_name=\"104 Server\", cpu = 60 , session_count = 80)]).toDF()"
   ]
  },
  {
   "cell_type": "code",
   "execution_count": 38,
   "metadata": {},
   "outputs": [
    {
     "name": "stdout",
     "output_type": "stream",
     "text": [
      "+---+-----------+-------------+----+\n",
      "|cpu|server_name|session_count|  na|\n",
      "+---+-----------+-------------+----+\n",
      "| 85| 101 Server|           80|null|\n",
      "| 80| 101 Server|           90|null|\n",
      "| 85| 102 Server|           40|null|\n",
      "| 70| 103 Server|           80|null|\n",
      "| 60| 104 Server|           80|null|\n",
      "+---+-----------+-------------+----+\n",
      "\n"
     ]
    }
   ],
   "source": [
    "df_na = df.withColumn('na' , lit(None).cast(StringType()))\n",
    "df_na.show()"
   ]
  },
  {
   "cell_type": "code",
   "execution_count": 40,
   "metadata": {},
   "outputs": [
    {
     "name": "stdout",
     "output_type": "stream",
     "text": [
      "+---+-----------+-------------+---+\n",
      "|cpu|server_name|session_count| na|\n",
      "+---+-----------+-------------+---+\n",
      "| 85| 101 Server|           80|  a|\n",
      "| 80| 101 Server|           90|  a|\n",
      "| 85| 102 Server|           40|  a|\n",
      "| 70| 103 Server|           80|  a|\n",
      "| 60| 104 Server|           80|  a|\n",
      "+---+-----------+-------------+---+\n",
      "\n"
     ]
    }
   ],
   "source": [
    "df_na.fillna('a').show()"
   ]
  },
  {
   "cell_type": "code",
   "execution_count": 41,
   "metadata": {},
   "outputs": [
    {
     "name": "stdout",
     "output_type": "stream",
     "text": [
      "+---+-----------+-------------+----+\n",
      "|cpu|server_name|session_count|  na|\n",
      "+---+-----------+-------------+----+\n",
      "| 85| 101 Server|           80|   a|\n",
      "| 80| 101 Server|           90|   a|\n",
      "| 85| 102 Server|           40|   a|\n",
      "| 70| 103 Server|           80|   a|\n",
      "| 60| 104 Server|           80|   a|\n",
      "| 85| 101 Server|           80|null|\n",
      "| 80| 101 Server|           90|null|\n",
      "| 85| 102 Server|           40|null|\n",
      "| 70| 103 Server|           80|null|\n",
      "| 60| 104 Server|           80|null|\n",
      "+---+-----------+-------------+----+\n",
      "\n"
     ]
    }
   ],
   "source": [
    "df2 = df_na.fillna('a').union(df_na)\n",
    "df2.show()"
   ]
  },
  {
   "cell_type": "code",
   "execution_count": 42,
   "metadata": {},
   "outputs": [
    {
     "name": "stdout",
     "output_type": "stream",
     "text": [
      "+---+-----------+-------------+---+\n",
      "|cpu|server_name|session_count| na|\n",
      "+---+-----------+-------------+---+\n",
      "| 85| 101 Server|           80|  a|\n",
      "| 80| 101 Server|           90|  a|\n",
      "| 85| 102 Server|           40|  a|\n",
      "| 70| 103 Server|           80|  a|\n",
      "| 60| 104 Server|           80|  a|\n",
      "+---+-----------+-------------+---+\n",
      "\n"
     ]
    }
   ],
   "source": [
    "df2.na.drop().show()"
   ]
  },
  {
   "cell_type": "code",
   "execution_count": 44,
   "metadata": {},
   "outputs": [],
   "source": [
    "df2.createOrReplaceTempView('na_table')"
   ]
  },
  {
   "cell_type": "code",
   "execution_count": 45,
   "metadata": {},
   "outputs": [
    {
     "name": "stdout",
     "output_type": "stream",
     "text": [
      "+---+-----------+-------------+----+\n",
      "|cpu|server_name|session_count|  na|\n",
      "+---+-----------+-------------+----+\n",
      "| 85| 101 Server|           80|   a|\n",
      "| 80| 101 Server|           90|   a|\n",
      "| 85| 102 Server|           40|   a|\n",
      "| 70| 103 Server|           80|   a|\n",
      "| 60| 104 Server|           80|   a|\n",
      "| 85| 101 Server|           80|null|\n",
      "| 80| 101 Server|           90|null|\n",
      "| 85| 102 Server|           40|null|\n",
      "| 70| 103 Server|           80|null|\n",
      "| 60| 104 Server|           80|null|\n",
      "+---+-----------+-------------+----+\n",
      "\n"
     ]
    }
   ],
   "source": [
    "spark.sql('select * from na_table').show()"
   ]
  },
  {
   "cell_type": "code",
   "execution_count": null,
   "metadata": {},
   "outputs": [],
   "source": []
  }
 ],
 "metadata": {
  "kernelspec": {
   "display_name": "Python 3",
   "language": "python",
   "name": "python3"
  },
  "language_info": {
   "codemirror_mode": {
    "name": "ipython",
    "version": 3
   },
   "file_extension": ".py",
   "mimetype": "text/x-python",
   "name": "python",
   "nbconvert_exporter": "python",
   "pygments_lexer": "ipython3",
   "version": "3.5.4"
  }
 },
 "nbformat": 4,
 "nbformat_minor": 2
}
